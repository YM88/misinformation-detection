{
 "cells": [
  {
   "cell_type": "code",
   "execution_count": 2,
   "metadata": {},
   "outputs": [],
   "source": [
    "from datetime import datetime\n",
    "from tqdm import tqdm\n",
    "import seaborn as sns\n",
    "import matplotlib.pyplot as plt\n",
    "import numpy as np\n",
    "import pandas as pd"
   ]
  },
  {
   "cell_type": "code",
   "execution_count": 3,
   "metadata": {},
   "outputs": [],
   "source": [
    "from sklearn.metrics import accuracy_score, log_loss, f1_score\n",
    "from sklearn.neighbors import KNeighborsClassifier\n",
    "from sklearn.svm import SVC, LinearSVC, NuSVC\n",
    "from sklearn.tree import DecisionTreeClassifier\n",
    "from sklearn.ensemble import RandomForestClassifier, AdaBoostClassifier, GradientBoostingClassifier\n",
    "from sklearn.naive_bayes import GaussianNB\n",
    "from xgboost import XGBClassifier\n",
    "from sklearn.discriminant_analysis import LinearDiscriminantAnalysis\n",
    "from sklearn.discriminant_analysis import QuadraticDiscriminantAnalysis\n",
    "from sklearn.model_selection import train_test_split"
   ]
  },
  {
   "cell_type": "code",
   "execution_count": 4,
   "metadata": {},
   "outputs": [],
   "source": [
    "training_cbow = pd.read_pickle('../data/te_cbow_df_training.pickle')\n",
    "testing_cbow = pd.read_pickle('../data/te_cbow_df_testing.pickle')"
   ]
  },
  {
   "cell_type": "code",
   "execution_count": 5,
   "metadata": {},
   "outputs": [],
   "source": [
    "X = training_cbow.iloc[:, 1:-1].values\n",
    "y = training_cbow.label.map({'true':1, 'unreliable':0}).values\n",
    "X_train, X_val, y_train, y_val = train_test_split(\n",
    "    X, y, test_size=0.2, random_state=42, stratify=y)"
   ]
  },
  {
   "cell_type": "code",
   "execution_count": 6,
   "metadata": {},
   "outputs": [],
   "source": [
    "classifiers = [\n",
    "    KNeighborsClassifier(n_neighbors=5),\n",
    "    SVC(kernel=\"rbf\", C=1, probability=True,\n",
    "        class_weight='balanced', random_state=42),\n",
    "    NuSVC(nu=0.5, kernel='rbf', probability=True,\n",
    "          class_weight='balanced', random_state=42),\n",
    "    DecisionTreeClassifier(class_weight='balanced', random_state=42),\n",
    "    RandomForestClassifier(class_weight='balanced', random_state=42),\n",
    "    AdaBoostClassifier(random_state=42),\n",
    "    GradientBoostingClassifier(n_estimators=100, random_state=42),\n",
    "    XGBClassifier(use_label_encoder=False, eval_metric='logloss', random_state=42),\n",
    "    GaussianNB(),\n",
    "    LinearDiscriminantAnalysis()]\n"
   ]
  },
  {
   "cell_type": "code",
   "execution_count": 7,
   "metadata": {},
   "outputs": [
    {
     "name": "stderr",
     "output_type": "stream",
     "text": [
      "\r",
      "  0%|                                             | 0/10 [00:00<?, ?it/s]"
     ]
    },
    {
     "name": "stdout",
     "output_type": "stream",
     "text": [
      "==============================\n",
      "KNeighborsClassifier\n",
      "****Results****\n",
      "Accuracy: 89.1353%\n",
      "Weighted F1: 89.1008%\n"
     ]
    },
    {
     "name": "stderr",
     "output_type": "stream",
     "text": [
      "\r",
      " 10%|███▋                                 | 1/10 [00:02<00:22,  2.47s/it]"
     ]
    },
    {
     "name": "stdout",
     "output_type": "stream",
     "text": [
      "Log Loss: 0.9690839924104709\n",
      "==============================\n",
      "==============================\n",
      "SVC\n",
      "****Results****\n",
      "Accuracy: 86.2528%\n",
      "Weighted F1: 86.1992%\n"
     ]
    },
    {
     "name": "stderr",
     "output_type": "stream",
     "text": [
      "\r",
      " 20%|███████▍                             | 2/10 [01:25<06:38, 49.79s/it]"
     ]
    },
    {
     "name": "stdout",
     "output_type": "stream",
     "text": [
      "Log Loss: 0.29812394619126037\n",
      "==============================\n",
      "==============================\n",
      "NuSVC\n",
      "****Results****\n",
      "Accuracy: 85.5137%\n",
      "Weighted F1: 85.4186%\n"
     ]
    },
    {
     "name": "stderr",
     "output_type": "stream",
     "text": [
      "\r",
      " 30%|███████████                          | 3/10 [03:28<09:42, 83.24s/it]"
     ]
    },
    {
     "name": "stdout",
     "output_type": "stream",
     "text": [
      "Log Loss: 0.3196519387781367\n",
      "==============================\n"
     ]
    },
    {
     "name": "stderr",
     "output_type": "stream",
     "text": [
      "\r",
      " 40%|██████████████▊                      | 4/10 [03:31<05:09, 51.61s/it]"
     ]
    },
    {
     "name": "stdout",
     "output_type": "stream",
     "text": [
      "==============================\n",
      "DecisionTreeClassifier\n",
      "****Results****\n",
      "Accuracy: 90.3917%\n",
      "Weighted F1: 90.4000%\n",
      "Log Loss: 3.318581619614479\n",
      "==============================\n"
     ]
    },
    {
     "name": "stderr",
     "output_type": "stream",
     "text": [
      "\r",
      " 50%|██████████████████▌                  | 5/10 [03:44<03:08, 37.75s/it]"
     ]
    },
    {
     "name": "stdout",
     "output_type": "stream",
     "text": [
      "==============================\n",
      "RandomForestClassifier\n",
      "****Results****\n",
      "Accuracy: 92.8307%\n",
      "Weighted F1: 92.8269%\n",
      "Log Loss: 0.17841511333852875\n",
      "==============================\n",
      "==============================\n",
      "AdaBoostClassifier\n",
      "****Results****\n",
      "Accuracy: 92.9047%\n",
      "Weighted F1: 92.9093%\n"
     ]
    },
    {
     "name": "stderr",
     "output_type": "stream",
     "text": [
      "\r",
      " 60%|██████████████████████▏              | 6/10 [04:06<02:09, 32.26s/it]"
     ]
    },
    {
     "name": "stdout",
     "output_type": "stream",
     "text": [
      "Log Loss: 0.6127146831971187\n",
      "==============================\n"
     ]
    },
    {
     "name": "stderr",
     "output_type": "stream",
     "text": [
      "\r",
      " 70%|█████████████████████████▉           | 7/10 [05:50<02:47, 55.86s/it]"
     ]
    },
    {
     "name": "stdout",
     "output_type": "stream",
     "text": [
      "==============================\n",
      "GradientBoostingClassifier\n",
      "****Results****\n",
      "Accuracy: 94.4568%\n",
      "Weighted F1: 94.4582%\n",
      "Log Loss: 0.14352308914239348\n",
      "==============================\n"
     ]
    },
    {
     "name": "stderr",
     "output_type": "stream",
     "text": [
      "\r",
      " 80%|█████████████████████████████▌       | 8/10 [06:18<01:33, 46.94s/it]"
     ]
    },
    {
     "name": "stdout",
     "output_type": "stream",
     "text": [
      "==============================\n",
      "XGBClassifier\n",
      "****Results****\n",
      "Accuracy: 94.3829%\n",
      "Weighted F1: 94.3861%\n",
      "Log Loss: 0.15988321472758996\n",
      "==============================\n",
      "==============================\n",
      "GaussianNB\n",
      "****Results****\n",
      "Accuracy: 72.5055%\n",
      "Weighted F1: 72.5348%\n",
      "Log Loss: 8.742684185354925\n",
      "==============================\n"
     ]
    },
    {
     "name": "stderr",
     "output_type": "stream",
     "text": [
      "100%|████████████████████████████████████| 10/10 [06:22<00:00, 38.30s/it]"
     ]
    },
    {
     "name": "stdout",
     "output_type": "stream",
     "text": [
      "==============================\n",
      "LinearDiscriminantAnalysis\n",
      "****Results****\n",
      "Accuracy: 91.7221%\n",
      "Weighted F1: 91.6967%\n",
      "Log Loss: 0.20244421205888807\n",
      "==============================\n",
      "⌚Process took: 0:06:22.998023\n"
     ]
    },
    {
     "name": "stderr",
     "output_type": "stream",
     "text": [
      "\n"
     ]
    },
    {
     "data": {
      "image/png": "[encoded data removed]",
      "text/plain": [
       "<Figure size 432x288 with 1 Axes>"
      ]
     },
     "metadata": {
      "needs_background": "light"
     },
     "output_type": "display_data"
    },
    {
     "data": {
      "image/png": "[encoded data removed]",
      "text/plain": [
       "<Figure size 432x288 with 1 Axes>"
      ]
     },
     "metadata": {
      "needs_background": "light"
     },
     "output_type": "display_data"
    },
    {
     "data": {
      "image/png": "[encoded data removed]",
      "text/plain": [
       "<Figure size 432x288 with 1 Axes>"
      ]
     },
     "metadata": {
      "needs_background": "light"
     },
     "output_type": "display_data"
    }
   ],
   "source": [
    "log_cols = [\"Classifier\", \"Accuracy\", \"Weighted F1\", \"Log Loss\"]\n",
    "log = pd.DataFrame(columns=log_cols)\n",
    "\n",
    "t1 = datetime.now()\n",
    "\n",
    "for clf in tqdm(classifiers):\n",
    "    clf.fit(X_train, y_train)\n",
    "    name = clf.__class__.__name__\n",
    "    print(\"=\"*30)\n",
    "    print(name)\n",
    "    print('****Results****')\n",
    "    train_predictions = clf.predict(X_val)\n",
    "    acc = accuracy_score(y_val, train_predictions)\n",
    "    print(\"Accuracy: {:.4%}\".format(acc))\n",
    "    train_predictions = clf.predict(X_val)\n",
    "    f1 = f1_score(y_val, train_predictions, average='weighted')\n",
    "    print(\"Weighted F1: {:.4%}\".format(f1))\n",
    "    train_predictions = clf.predict_proba(X_val)\n",
    "    ll = log_loss(y_val, train_predictions)\n",
    "    print(\"Log Loss: {}\".format(ll))\n",
    "    log_entry = pd.DataFrame([[name, acc*100, f1*100, ll]], columns=log_cols)\n",
    "    log = log.append(log_entry)\n",
    "    print(\"=\"*30)\n",
    "\n",
    "t2 = datetime.now() - t1\n",
    "print('⌚Process took:', t2)\n",
    "\n",
    "sns.barplot(x='Accuracy', y='Classifier', data=log)\n",
    "plt.xlabel('Accuracy %')\n",
    "plt.title('Accuracy')\n",
    "plt.show()\n",
    "sns.barplot(x='Weighted F1', y='Classifier', data=log)\n",
    "plt.xlabel('Weighted F1 Score %')\n",
    "plt.title('Weighted F1')\n",
    "plt.show()\n",
    "sns.barplot(x='Log Loss', y='Classifier', data=log)\n",
    "plt.xlabel('Log Loss')\n",
    "plt.title('Log Loss')\n",
    "plt.show()"
   ]
  },
  {
   "cell_type": "code",
   "execution_count": 8,
   "metadata": {},
   "outputs": [
    {
     "data": {
      "text/html": [
       "<div>\n",
       "<style scoped>\n",
       "    .dataframe tbody tr th:only-of-type {\n",
       "        vertical-align: middle;\n",
       "    }\n",
       "\n",
       "    .dataframe tbody tr th {\n",
       "        vertical-align: top;\n",
       "    }\n",
       "\n",
       "    .dataframe thead th {\n",
       "        text-align: right;\n",
       "    }\n",
       "</style>\n",
       "<table border=\"1\" class=\"dataframe\">\n",
       "  <thead>\n",
       "    <tr style=\"text-align: right;\">\n",
       "      <th></th>\n",
       "      <th>Classifier</th>\n",
       "      <th>Accuracy</th>\n",
       "      <th>Weighted F1</th>\n",
       "      <th>Log Loss</th>\n",
       "    </tr>\n",
       "  </thead>\n",
       "  <tbody>\n",
       "    <tr>\n",
       "      <th>0</th>\n",
       "      <td>KNeighborsClassifier</td>\n",
       "      <td>89.135255</td>\n",
       "      <td>89.100819</td>\n",
       "      <td>0.969084</td>\n",
       "    </tr>\n",
       "    <tr>\n",
       "      <th>0</th>\n",
       "      <td>SVC</td>\n",
       "      <td>86.252772</td>\n",
       "      <td>86.199151</td>\n",
       "      <td>0.298124</td>\n",
       "    </tr>\n",
       "    <tr>\n",
       "      <th>0</th>\n",
       "      <td>NuSVC</td>\n",
       "      <td>85.513673</td>\n",
       "      <td>85.418574</td>\n",
       "      <td>0.319652</td>\n",
       "    </tr>\n",
       "    <tr>\n",
       "      <th>0</th>\n",
       "      <td>DecisionTreeClassifier</td>\n",
       "      <td>90.391722</td>\n",
       "      <td>90.400043</td>\n",
       "      <td>3.318582</td>\n",
       "    </tr>\n",
       "    <tr>\n",
       "      <th>0</th>\n",
       "      <td>RandomForestClassifier</td>\n",
       "      <td>92.830746</td>\n",
       "      <td>92.826915</td>\n",
       "      <td>0.178415</td>\n",
       "    </tr>\n",
       "    <tr>\n",
       "      <th>0</th>\n",
       "      <td>AdaBoostClassifier</td>\n",
       "      <td>92.904656</td>\n",
       "      <td>92.909287</td>\n",
       "      <td>0.612715</td>\n",
       "    </tr>\n",
       "    <tr>\n",
       "      <th>0</th>\n",
       "      <td>GradientBoostingClassifier</td>\n",
       "      <td>94.456763</td>\n",
       "      <td>94.458193</td>\n",
       "      <td>0.143523</td>\n",
       "    </tr>\n",
       "    <tr>\n",
       "      <th>0</th>\n",
       "      <td>XGBClassifier</td>\n",
       "      <td>94.382853</td>\n",
       "      <td>94.386070</td>\n",
       "      <td>0.159883</td>\n",
       "    </tr>\n",
       "    <tr>\n",
       "      <th>0</th>\n",
       "      <td>GaussianNB</td>\n",
       "      <td>72.505543</td>\n",
       "      <td>72.534752</td>\n",
       "      <td>8.742684</td>\n",
       "    </tr>\n",
       "    <tr>\n",
       "      <th>0</th>\n",
       "      <td>LinearDiscriminantAnalysis</td>\n",
       "      <td>91.722099</td>\n",
       "      <td>91.696689</td>\n",
       "      <td>0.202444</td>\n",
       "    </tr>\n",
       "  </tbody>\n",
       "</table>\n",
       "</div>"
      ],
      "text/plain": [
       "                   Classifier   Accuracy  Weighted F1  Log Loss\n",
       "0        KNeighborsClassifier  89.135255    89.100819  0.969084\n",
       "0                         SVC  86.252772    86.199151  0.298124\n",
       "0                       NuSVC  85.513673    85.418574  0.319652\n",
       "0      DecisionTreeClassifier  90.391722    90.400043  3.318582\n",
       "0      RandomForestClassifier  92.830746    92.826915  0.178415\n",
       "0          AdaBoostClassifier  92.904656    92.909287  0.612715\n",
       "0  GradientBoostingClassifier  94.456763    94.458193  0.143523\n",
       "0               XGBClassifier  94.382853    94.386070  0.159883\n",
       "0                  GaussianNB  72.505543    72.534752  8.742684\n",
       "0  LinearDiscriminantAnalysis  91.722099    91.696689  0.202444"
      ]
     },
     "execution_count": 8,
     "metadata": {},
     "output_type": "execute_result"
    }
   ],
   "source": [
    "log"
   ]
  },
  {
   "cell_type": "code",
   "execution_count": null,
   "metadata": {},
   "outputs": [],
   "source": []
  }
 ],
 "metadata": {
  "interpreter": {
   "hash": "6a5a51028c04685c93ad26148e924b71e4c144ca2a31b596ca807913250ac5e1"
  },
  "kernelspec": {
   "display_name": "PyCaretEnv",
   "language": "python",
   "name": "pycaret_env"
  },
  "language_info": {
   "codemirror_mode": {
    "name": "ipython",
    "version": 3
   },
   "file_extension": ".py",
   "mimetype": "text/x-python",
   "name": "python",
   "nbconvert_exporter": "python",
   "pygments_lexer": "ipython3",
   "version": "3.8.10"
  }
 },
 "nbformat": 4,
 "nbformat_minor": 2
}
