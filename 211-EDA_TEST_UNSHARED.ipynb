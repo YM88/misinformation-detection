{
 "cells": [
  {
   "cell_type": "code",
   "execution_count": 1,
   "metadata": {},
   "outputs": [],
   "source": [
    "import pickle\n",
    "from collections import Counter\n",
    "\n",
    "import nltk\n",
    "\n",
    "import pandas as pd\n",
    "import numpy as np\n",
    "import matplotlib.pyplot as plt\n",
    "from wordcloud import WordCloud\n",
    "\n",
    "from gensim.models import Word2Vec"
   ]
  },
  {
   "cell_type": "code",
   "execution_count": 2,
   "metadata": {},
   "outputs": [],
   "source": [
    "df = pd.read_pickle('../data/cleaned_tweets_test.pkl')"
   ]
  },
  {
   "cell_type": "code",
   "execution_count": 3,
   "metadata": {},
   "outputs": [
    {
     "data": {
      "text/html": [
       "<div>\n",
       "<style scoped>\n",
       "    .dataframe tbody tr th:only-of-type {\n",
       "        vertical-align: middle;\n",
       "    }\n",
       "\n",
       "    .dataframe tbody tr th {\n",
       "        vertical-align: top;\n",
       "    }\n",
       "\n",
       "    .dataframe thead th {\n",
       "        text-align: right;\n",
       "    }\n",
       "</style>\n",
       "<table border=\"1\" class=\"dataframe\">\n",
       "  <thead>\n",
       "    <tr style=\"text-align: right;\">\n",
       "      <th></th>\n",
       "      <th>text</th>\n",
       "      <th>label</th>\n",
       "      <th>category</th>\n",
       "      <th>cleaned</th>\n",
       "      <th>num_words</th>\n",
       "    </tr>\n",
       "  </thead>\n",
       "  <tbody>\n",
       "    <tr>\n",
       "      <th>0</th>\n",
       "      <td>we are living in scary times in canada. gov’t ...</td>\n",
       "      <td>0</td>\n",
       "      <td>unreliable</td>\n",
       "      <td>living scary time canada gov refuse protect ca...</td>\n",
       "      <td>9</td>\n",
       "    </tr>\n",
       "    <tr>\n",
       "      <th>1</th>\n",
       "      <td>just as bad in canada. in fact, our government...</td>\n",
       "      <td>0</td>\n",
       "      <td>unreliable</td>\n",
       "      <td>bad canada fact government accusing us racism ...</td>\n",
       "      <td>10</td>\n",
       "    </tr>\n",
       "    <tr>\n",
       "      <th>2</th>\n",
       "      <td>it was only a matter of time before the mainst...</td>\n",
       "      <td>0</td>\n",
       "      <td>unreliable</td>\n",
       "      <td>matter time mainstream medium decided blame co...</td>\n",
       "      <td>10</td>\n",
       "    </tr>\n",
       "    <tr>\n",
       "      <th>3</th>\n",
       "      <td>russia's taking no chances: foreigners infecte...</td>\n",
       "      <td>0</td>\n",
       "      <td>unreliable</td>\n",
       "      <td>russia taking chance foreigner infected new ch...</td>\n",
       "      <td>13</td>\n",
       "    </tr>\n",
       "    <tr>\n",
       "      <th>4</th>\n",
       "      <td>although there is now a presumptive confirmed ...</td>\n",
       "      <td>0</td>\n",
       "      <td>unreliable</td>\n",
       "      <td>although presumptive confirmed case wuhan nove...</td>\n",
       "      <td>11</td>\n",
       "    </tr>\n",
       "  </tbody>\n",
       "</table>\n",
       "</div>"
      ],
      "text/plain": [
       "                                                text  label    category  \\\n",
       "0  we are living in scary times in canada. gov’t ...      0  unreliable   \n",
       "1  just as bad in canada. in fact, our government...      0  unreliable   \n",
       "2  it was only a matter of time before the mainst...      0  unreliable   \n",
       "3  russia's taking no chances: foreigners infecte...      0  unreliable   \n",
       "4  although there is now a presumptive confirmed ...      0  unreliable   \n",
       "\n",
       "                                             cleaned  num_words  \n",
       "0  living scary time canada gov refuse protect ca...          9  \n",
       "1  bad canada fact government accusing us racism ...         10  \n",
       "2  matter time mainstream medium decided blame co...         10  \n",
       "3  russia taking chance foreigner infected new ch...         13  \n",
       "4  although presumptive confirmed case wuhan nove...         11  "
      ]
     },
     "execution_count": 3,
     "metadata": {},
     "output_type": "execute_result"
    }
   ],
   "source": [
    "df.head()"
   ]
  },
  {
   "cell_type": "code",
   "execution_count": 4,
   "metadata": {},
   "outputs": [
    {
     "data": {
      "text/plain": [
       "0    280\n",
       "1    277\n",
       "Name: label, dtype: int64"
      ]
     },
     "execution_count": 4,
     "metadata": {},
     "output_type": "execute_result"
    }
   ],
   "source": [
    "df.label.value_counts()"
   ]
  },
  {
   "cell_type": "code",
   "execution_count": 5,
   "metadata": {},
   "outputs": [
    {
     "data": {
      "text/plain": [
       "unreliable    280\n",
       "true          277\n",
       "Name: category, dtype: int64"
      ]
     },
     "execution_count": 5,
     "metadata": {},
     "output_type": "execute_result"
    }
   ],
   "source": [
    "df.category.value_counts()"
   ]
  },
  {
   "cell_type": "markdown",
   "metadata": {},
   "source": [
    "#### count of (non distinct) words in each category"
   ]
  },
  {
   "cell_type": "code",
   "execution_count": 6,
   "metadata": {},
   "outputs": [],
   "source": [
    "bow_true = []\n",
    "for word in df[df.category == 'true'].cleaned.str.split().to_list():\n",
    "    bow_true += word\n"
   ]
  },
  {
   "cell_type": "code",
   "execution_count": 7,
   "metadata": {},
   "outputs": [],
   "source": [
    "bow_unreliable = []\n",
    "for word in df[df.category == 'unreliable'].cleaned.str.split().to_list():\n",
    "    bow_unreliable += word"
   ]
  },
  {
   "cell_type": "code",
   "execution_count": 8,
   "metadata": {},
   "outputs": [
    {
     "data": {
      "text/plain": [
       "2829"
      ]
     },
     "execution_count": 8,
     "metadata": {},
     "output_type": "execute_result"
    }
   ],
   "source": [
    "len(bow_true)"
   ]
  },
  {
   "cell_type": "code",
   "execution_count": 9,
   "metadata": {},
   "outputs": [
    {
     "data": {
      "text/plain": [
       "3294"
      ]
     },
     "execution_count": 9,
     "metadata": {},
     "output_type": "execute_result"
    }
   ],
   "source": [
    "len(bow_unreliable)"
   ]
  },
  {
   "cell_type": "code",
   "execution_count": 10,
   "metadata": {},
   "outputs": [
    {
     "data": {
      "text/plain": [
       "1089"
      ]
     },
     "execution_count": 10,
     "metadata": {},
     "output_type": "execute_result"
    }
   ],
   "source": [
    "len(set(bow_true))"
   ]
  },
  {
   "cell_type": "code",
   "execution_count": 11,
   "metadata": {},
   "outputs": [
    {
     "data": {
      "text/plain": [
       "1583"
      ]
     },
     "execution_count": 11,
     "metadata": {},
     "output_type": "execute_result"
    }
   ],
   "source": [
    "len(set(bow_unreliable))"
   ]
  },
  {
   "cell_type": "code",
   "execution_count": 12,
   "metadata": {},
   "outputs": [],
   "source": [
    "words = bow_true + bow_unreliable"
   ]
  },
  {
   "cell_type": "code",
   "execution_count": 13,
   "metadata": {},
   "outputs": [],
   "source": [
    "texts =  [(tweet, cat) for tweet, cat in zip(df.cleaned.to_list(), df.category.to_list())]"
   ]
  },
  {
   "cell_type": "code",
   "execution_count": 14,
   "metadata": {},
   "outputs": [],
   "source": [
    "tweets, cats = (zip(*texts))"
   ]
  },
  {
   "cell_type": "markdown",
   "metadata": {},
   "source": [
    "## Word Embeddings"
   ]
  },
  {
   "cell_type": "code",
   "execution_count": 15,
   "metadata": {},
   "outputs": [],
   "source": [
    "testing_words = set(words)"
   ]
  },
  {
   "cell_type": "code",
   "execution_count": 16,
   "metadata": {},
   "outputs": [],
   "source": [
    "we_cbow = pickle.load(open('../data/we_cbow_training_unshared.pickle', 'rb'))\n",
    "we_sg = pickle.load(open('../data/we_sg_training_unshared.pickle', 'rb'))"
   ]
  },
  {
   "cell_type": "code",
   "execution_count": 17,
   "metadata": {},
   "outputs": [],
   "source": [
    "training_words = pickle.load(open('../data/training_words_set.pickle', 'rb'))"
   ]
  },
  {
   "cell_type": "code",
   "execution_count": 18,
   "metadata": {},
   "outputs": [
    {
     "data": {
      "text/plain": [
       "596"
      ]
     },
     "execution_count": 18,
     "metadata": {},
     "output_type": "execute_result"
    }
   ],
   "source": [
    "len([word for word in testing_words if word not in training_words])\n",
    "\n",
    "# this might create a significant issue"
   ]
  },
  {
   "cell_type": "code",
   "execution_count": 19,
   "metadata": {},
   "outputs": [],
   "source": [
    "def meaner(word_embedding, tweets, training_words):\n",
    "    # excludes words that are not in the training words\n",
    "    tweet_embedding = {}\n",
    "    for i, tweet in enumerate(tweets):\n",
    "        tweet_embedding[tweet] = np.mean(np.array([word_embedding[word] for word in tweets[i].split() if word in training_words]), axis=0)\n",
    "    return tweet_embedding"
   ]
  },
  {
   "cell_type": "code",
   "execution_count": 20,
   "metadata": {},
   "outputs": [],
   "source": [
    "te_cbow = meaner(we_cbow, tweets, training_words)\n",
    "te_sg = meaner(we_sg, tweets, training_words)"
   ]
  },
  {
   "cell_type": "code",
   "execution_count": 21,
   "metadata": {},
   "outputs": [
    {
     "data": {
      "text/plain": [
       "(557, 557)"
      ]
     },
     "execution_count": 21,
     "metadata": {},
     "output_type": "execute_result"
    }
   ],
   "source": [
    "len(te_cbow), len(te_sg)"
   ]
  },
  {
   "cell_type": "code",
   "execution_count": 22,
   "metadata": {},
   "outputs": [],
   "source": [
    "te_cbow_df = pd.DataFrame(te_cbow).T.reset_index().rename(columns={'index':'tweet'})\n",
    "te_cbow_df['category'] = cats\n",
    "te_cbow_df['label'] = te_cbow_df.category.map({'unreliable':0, 'true':1})\n",
    "te_cbow_df = te_cbow_df.sample(frac=1, random_state=42).reset_index(drop=True)\n",
    "\n",
    "te_sg_df = pd.DataFrame(te_sg).T.reset_index().rename(columns={'index':'tweet'})\n",
    "te_sg_df['category'] = cats\n",
    "te_sg_df['label'] = te_sg_df.category.map({'unreliable':0, 'true':1})\n",
    "te_sg_df = te_sg_df.sample(frac=1, random_state=42).reset_index(drop=True)"
   ]
  },
  {
   "cell_type": "code",
   "execution_count": 23,
   "metadata": {},
   "outputs": [
    {
     "data": {
      "text/html": [
       "<div>\n",
       "<style scoped>\n",
       "    .dataframe tbody tr th:only-of-type {\n",
       "        vertical-align: middle;\n",
       "    }\n",
       "\n",
       "    .dataframe tbody tr th {\n",
       "        vertical-align: top;\n",
       "    }\n",
       "\n",
       "    .dataframe thead th {\n",
       "        text-align: right;\n",
       "    }\n",
       "</style>\n",
       "<table border=\"1\" class=\"dataframe\">\n",
       "  <thead>\n",
       "    <tr style=\"text-align: right;\">\n",
       "      <th></th>\n",
       "      <th>tweet</th>\n",
       "      <th>0</th>\n",
       "      <th>1</th>\n",
       "      <th>2</th>\n",
       "      <th>3</th>\n",
       "      <th>4</th>\n",
       "      <th>5</th>\n",
       "      <th>6</th>\n",
       "      <th>7</th>\n",
       "      <th>8</th>\n",
       "      <th>...</th>\n",
       "      <th>292</th>\n",
       "      <th>293</th>\n",
       "      <th>294</th>\n",
       "      <th>295</th>\n",
       "      <th>296</th>\n",
       "      <th>297</th>\n",
       "      <th>298</th>\n",
       "      <th>299</th>\n",
       "      <th>category</th>\n",
       "      <th>label</th>\n",
       "    </tr>\n",
       "  </thead>\n",
       "  <tbody>\n",
       "    <tr>\n",
       "      <th>0</th>\n",
       "      <td>nation health professional continue manage cor...</td>\n",
       "      <td>0.026610</td>\n",
       "      <td>-0.102835</td>\n",
       "      <td>-0.025486</td>\n",
       "      <td>-0.055305</td>\n",
       "      <td>-0.118430</td>\n",
       "      <td>-0.015232</td>\n",
       "      <td>0.373783</td>\n",
       "      <td>0.099820</td>\n",
       "      <td>-0.092851</td>\n",
       "      <td>...</td>\n",
       "      <td>0.048518</td>\n",
       "      <td>0.085304</td>\n",
       "      <td>0.090412</td>\n",
       "      <td>0.279260</td>\n",
       "      <td>0.164074</td>\n",
       "      <td>0.237289</td>\n",
       "      <td>-0.014596</td>\n",
       "      <td>0.084876</td>\n",
       "      <td>unreliable</td>\n",
       "      <td>0</td>\n",
       "    </tr>\n",
       "    <tr>\n",
       "      <th>1</th>\n",
       "      <td>toronto public health set coronavirus hotline ...</td>\n",
       "      <td>0.039418</td>\n",
       "      <td>-0.166046</td>\n",
       "      <td>-0.036451</td>\n",
       "      <td>-0.084716</td>\n",
       "      <td>-0.186868</td>\n",
       "      <td>-0.024942</td>\n",
       "      <td>0.587382</td>\n",
       "      <td>0.154040</td>\n",
       "      <td>-0.150155</td>\n",
       "      <td>...</td>\n",
       "      <td>0.078209</td>\n",
       "      <td>0.133449</td>\n",
       "      <td>0.142628</td>\n",
       "      <td>0.446401</td>\n",
       "      <td>0.260223</td>\n",
       "      <td>0.373860</td>\n",
       "      <td>-0.027158</td>\n",
       "      <td>0.135424</td>\n",
       "      <td>true</td>\n",
       "      <td>1</td>\n",
       "    </tr>\n",
       "    <tr>\n",
       "      <th>2</th>\n",
       "      <td>hey trumptrain official warns trump ignorant c...</td>\n",
       "      <td>0.050208</td>\n",
       "      <td>-0.147345</td>\n",
       "      <td>-0.039941</td>\n",
       "      <td>-0.087067</td>\n",
       "      <td>-0.197090</td>\n",
       "      <td>-0.018481</td>\n",
       "      <td>0.610433</td>\n",
       "      <td>0.158824</td>\n",
       "      <td>-0.170516</td>\n",
       "      <td>...</td>\n",
       "      <td>0.083069</td>\n",
       "      <td>0.109545</td>\n",
       "      <td>0.110459</td>\n",
       "      <td>0.427232</td>\n",
       "      <td>0.253073</td>\n",
       "      <td>0.402234</td>\n",
       "      <td>0.000706</td>\n",
       "      <td>0.138181</td>\n",
       "      <td>unreliable</td>\n",
       "      <td>0</td>\n",
       "    </tr>\n",
       "    <tr>\n",
       "      <th>3</th>\n",
       "      <td>lie us coronaviruse</td>\n",
       "      <td>0.040770</td>\n",
       "      <td>-0.113757</td>\n",
       "      <td>-0.022953</td>\n",
       "      <td>-0.057281</td>\n",
       "      <td>-0.147395</td>\n",
       "      <td>-0.015885</td>\n",
       "      <td>0.439306</td>\n",
       "      <td>0.089939</td>\n",
       "      <td>-0.129205</td>\n",
       "      <td>...</td>\n",
       "      <td>0.079528</td>\n",
       "      <td>0.056295</td>\n",
       "      <td>0.078036</td>\n",
       "      <td>0.316576</td>\n",
       "      <td>0.179258</td>\n",
       "      <td>0.309162</td>\n",
       "      <td>-0.020263</td>\n",
       "      <td>0.099624</td>\n",
       "      <td>unreliable</td>\n",
       "      <td>0</td>\n",
       "    </tr>\n",
       "    <tr>\n",
       "      <th>4</th>\n",
       "      <td>maga hat made china may infected coronavirus s...</td>\n",
       "      <td>0.047375</td>\n",
       "      <td>-0.134999</td>\n",
       "      <td>-0.035648</td>\n",
       "      <td>-0.073456</td>\n",
       "      <td>-0.151717</td>\n",
       "      <td>-0.032600</td>\n",
       "      <td>0.496991</td>\n",
       "      <td>0.105883</td>\n",
       "      <td>-0.123409</td>\n",
       "      <td>...</td>\n",
       "      <td>0.075033</td>\n",
       "      <td>0.090503</td>\n",
       "      <td>0.126417</td>\n",
       "      <td>0.389700</td>\n",
       "      <td>0.208518</td>\n",
       "      <td>0.317893</td>\n",
       "      <td>-0.049227</td>\n",
       "      <td>0.124209</td>\n",
       "      <td>unreliable</td>\n",
       "      <td>0</td>\n",
       "    </tr>\n",
       "  </tbody>\n",
       "</table>\n",
       "<p>5 rows × 303 columns</p>\n",
       "</div>"
      ],
      "text/plain": [
       "                                               tweet         0         1  \\\n",
       "0  nation health professional continue manage cor...  0.026610 -0.102835   \n",
       "1  toronto public health set coronavirus hotline ...  0.039418 -0.166046   \n",
       "2  hey trumptrain official warns trump ignorant c...  0.050208 -0.147345   \n",
       "3                                lie us coronaviruse  0.040770 -0.113757   \n",
       "4  maga hat made china may infected coronavirus s...  0.047375 -0.134999   \n",
       "\n",
       "          2         3         4         5         6         7         8  ...  \\\n",
       "0 -0.025486 -0.055305 -0.118430 -0.015232  0.373783  0.099820 -0.092851  ...   \n",
       "1 -0.036451 -0.084716 -0.186868 -0.024942  0.587382  0.154040 -0.150155  ...   \n",
       "2 -0.039941 -0.087067 -0.197090 -0.018481  0.610433  0.158824 -0.170516  ...   \n",
       "3 -0.022953 -0.057281 -0.147395 -0.015885  0.439306  0.089939 -0.129205  ...   \n",
       "4 -0.035648 -0.073456 -0.151717 -0.032600  0.496991  0.105883 -0.123409  ...   \n",
       "\n",
       "        292       293       294       295       296       297       298  \\\n",
       "0  0.048518  0.085304  0.090412  0.279260  0.164074  0.237289 -0.014596   \n",
       "1  0.078209  0.133449  0.142628  0.446401  0.260223  0.373860 -0.027158   \n",
       "2  0.083069  0.109545  0.110459  0.427232  0.253073  0.402234  0.000706   \n",
       "3  0.079528  0.056295  0.078036  0.316576  0.179258  0.309162 -0.020263   \n",
       "4  0.075033  0.090503  0.126417  0.389700  0.208518  0.317893 -0.049227   \n",
       "\n",
       "        299    category  label  \n",
       "0  0.084876  unreliable      0  \n",
       "1  0.135424        true      1  \n",
       "2  0.138181  unreliable      0  \n",
       "3  0.099624  unreliable      0  \n",
       "4  0.124209  unreliable      0  \n",
       "\n",
       "[5 rows x 303 columns]"
      ]
     },
     "execution_count": 23,
     "metadata": {},
     "output_type": "execute_result"
    }
   ],
   "source": [
    "te_cbow_df.head()"
   ]
  },
  {
   "cell_type": "code",
   "execution_count": 24,
   "metadata": {},
   "outputs": [],
   "source": [
    "pickle.dump(te_cbow_df, open(\"../data/te_cbow_df_testing_unshared.pickle\", \"wb\"))\n",
    "pickle.dump(te_sg_df, open(\"../data/te_sg_df_testing_unshared.pickle\", \"wb\"))"
   ]
  }
 ],
 "metadata": {
  "interpreter": {
   "hash": "033bd3c1329338defdc4c98345d63580936211b5a58345c09a4ef95f2034f40b"
  },
  "kernelspec": {
   "display_name": "Python 3.9.7 64-bit ('venv': venv)",
   "name": "python3"
  },
  "language_info": {
   "codemirror_mode": {
    "name": "ipython",
    "version": 3
   },
   "file_extension": ".py",
   "mimetype": "text/x-python",
   "name": "python",
   "nbconvert_exporter": "python",
   "pygments_lexer": "ipython3",
   "version": "3.9.7"
  },
  "orig_nbformat": 4
 },
 "nbformat": 4,
 "nbformat_minor": 2
}
