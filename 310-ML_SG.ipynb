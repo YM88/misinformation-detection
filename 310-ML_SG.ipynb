{
 "cells": [
  {
   "cell_type": "code",
   "execution_count": 1,
   "metadata": {},
   "outputs": [],
   "source": [
    "from datetime import datetime\n",
    "from tqdm import tqdm\n",
    "import seaborn as sns\n",
    "import matplotlib.pyplot as plt\n",
    "import numpy as np\n",
    "import pandas as pd"
   ]
  },
  {
   "cell_type": "code",
   "execution_count": 2,
   "metadata": {},
   "outputs": [],
   "source": [
    "from sklearn.metrics import accuracy_score, log_loss, f1_score\n",
    "from sklearn.neighbors import KNeighborsClassifier\n",
    "from sklearn.svm import SVC, LinearSVC, NuSVC\n",
    "from sklearn.tree import DecisionTreeClassifier\n",
    "from sklearn.ensemble import RandomForestClassifier, AdaBoostClassifier, GradientBoostingClassifier\n",
    "from sklearn.naive_bayes import GaussianNB\n",
    "from xgboost import XGBClassifier\n",
    "from sklearn.discriminant_analysis import LinearDiscriminantAnalysis\n",
    "from sklearn.discriminant_analysis import QuadraticDiscriminantAnalysis\n",
    "from sklearn.model_selection import train_test_split"
   ]
  },
  {
   "cell_type": "code",
   "execution_count": 3,
   "metadata": {},
   "outputs": [],
   "source": [
    "training_sg = pd.read_pickle('../data/te_sg_df_training.pickle')\n",
    "testing_sg = pd.read_pickle('../data/te_sg_df_testing.pickle')"
   ]
  },
  {
   "cell_type": "code",
   "execution_count": 4,
   "metadata": {},
   "outputs": [],
   "source": [
    "X = training_sg.iloc[:, 1:-1].values\n",
    "y = training_sg.label.map({'true':1, 'unreliable':0}).values\n",
    "X_train, X_val, y_train, y_val = train_test_split(\n",
    "    X, y, test_size=0.2, random_state=42, stratify=y)"
   ]
  },
  {
   "cell_type": "code",
   "execution_count": 5,
   "metadata": {},
   "outputs": [],
   "source": [
    "classifiers = [\n",
    "    KNeighborsClassifier(n_neighbors=5),\n",
    "    SVC(kernel=\"rbf\", C=1, probability=True,\n",
    "        class_weight='balanced', random_state=42),\n",
    "    NuSVC(nu=0.5, kernel='rbf', probability=True,\n",
    "          class_weight='balanced', random_state=42),\n",
    "    DecisionTreeClassifier(class_weight='balanced', random_state=42),\n",
    "    RandomForestClassifier(class_weight='balanced', random_state=42),\n",
    "    AdaBoostClassifier(random_state=42),\n",
    "    GradientBoostingClassifier(n_estimators=100, random_state=42),\n",
    "    XGBClassifier(use_label_encoder=False, eval_metric='logloss', random_state=42),\n",
    "    GaussianNB(),\n",
    "    LinearDiscriminantAnalysis()]\n"
   ]
  },
  {
   "cell_type": "code",
   "execution_count": 6,
   "metadata": {},
   "outputs": [
    {
     "name": "stderr",
     "output_type": "stream",
     "text": [
      "  0%|          | 0/10 [00:00<?, ?it/s]"
     ]
    },
    {
     "name": "stdout",
     "output_type": "stream",
     "text": [
      "==============================\n",
      "KNeighborsClassifier\n",
      "****Results****\n",
      "Accuracy: 92.3873%\n",
      "Weighted F1: 92.3790%\n"
     ]
    },
    {
     "name": "stderr",
     "output_type": "stream",
     "text": [
      " 10%|█         | 1/10 [00:01<00:13,  1.53s/it]"
     ]
    },
    {
     "name": "stdout",
     "output_type": "stream",
     "text": [
      "Log Loss: 0.8624451805217432\n",
      "==============================\n",
      "==============================\n",
      "SVC\n",
      "****Results****\n",
      "Accuracy: 92.3134%\n",
      "Weighted F1: 92.3116%\n"
     ]
    },
    {
     "name": "stderr",
     "output_type": "stream",
     "text": [
      " 20%|██        | 2/10 [00:52<04:05, 30.70s/it]"
     ]
    },
    {
     "name": "stdout",
     "output_type": "stream",
     "text": [
      "Log Loss: 0.17596319836452495\n",
      "==============================\n",
      "==============================\n",
      "NuSVC\n",
      "****Results****\n",
      "Accuracy: 90.7613%\n",
      "Weighted F1: 90.7485%\n"
     ]
    },
    {
     "name": "stderr",
     "output_type": "stream",
     "text": [
      " 30%|███       | 3/10 [02:27<06:58, 59.81s/it]"
     ]
    },
    {
     "name": "stdout",
     "output_type": "stream",
     "text": [
      "Log Loss: 0.22287742472124408\n",
      "==============================\n"
     ]
    },
    {
     "name": "stderr",
     "output_type": "stream",
     "text": [
      " 40%|████      | 4/10 [02:30<03:45, 37.63s/it]"
     ]
    },
    {
     "name": "stdout",
     "output_type": "stream",
     "text": [
      "==============================\n",
      "DecisionTreeClassifier\n",
      "****Results****\n",
      "Accuracy: 92.2395%\n",
      "Weighted F1: 92.2373%\n",
      "Log Loss: 2.6803928466116944\n",
      "==============================\n",
      "==============================\n",
      "RandomForestClassifier\n",
      "****Results****\n",
      "Accuracy: 95.1959%\n",
      "Weighted F1: 95.1961%\n"
     ]
    },
    {
     "name": "stderr",
     "output_type": "stream",
     "text": [
      " 50%|█████     | 5/10 [02:46<02:27, 29.58s/it]"
     ]
    },
    {
     "name": "stdout",
     "output_type": "stream",
     "text": [
      "Log Loss: 0.12329945982130133\n",
      "==============================\n",
      "==============================\n",
      "AdaBoostClassifier\n",
      "****Results****\n",
      "Accuracy: 95.5654%\n"
     ]
    },
    {
     "name": "stderr",
     "output_type": "stream",
     "text": [
      " 60%|██████    | 6/10 [03:14<01:56, 29.20s/it]"
     ]
    },
    {
     "name": "stdout",
     "output_type": "stream",
     "text": [
      "Weighted F1: 95.5649%\n",
      "Log Loss: 0.5874116885488366\n",
      "==============================\n"
     ]
    },
    {
     "name": "stderr",
     "output_type": "stream",
     "text": [
      " 70%|███████   | 7/10 [05:18<03:01, 60.35s/it]"
     ]
    },
    {
     "name": "stdout",
     "output_type": "stream",
     "text": [
      "==============================\n",
      "GradientBoostingClassifier\n",
      "****Results****\n",
      "Accuracy: 96.0089%\n",
      "Weighted F1: 96.0115%\n",
      "Log Loss: 0.08997653284419437\n",
      "==============================\n"
     ]
    },
    {
     "name": "stderr",
     "output_type": "stream",
     "text": [
      " 90%|█████████ | 9/10 [05:36<00:32, 32.11s/it]"
     ]
    },
    {
     "name": "stdout",
     "output_type": "stream",
     "text": [
      "==============================\n",
      "XGBClassifier\n",
      "****Results****\n",
      "Accuracy: 96.7480%\n",
      "Weighted F1: 96.7486%\n",
      "Log Loss: 0.0887162762767444\n",
      "==============================\n",
      "==============================\n",
      "GaussianNB\n",
      "****Results****\n",
      "Accuracy: 79.3052%\n",
      "Weighted F1: 79.3278%\n",
      "Log Loss: 5.491235074010976\n",
      "==============================\n"
     ]
    },
    {
     "name": "stderr",
     "output_type": "stream",
     "text": [
      "100%|██████████| 10/10 [05:37<00:00, 33.77s/it]"
     ]
    },
    {
     "name": "stdout",
     "output_type": "stream",
     "text": [
      "==============================\n",
      "LinearDiscriminantAnalysis\n",
      "****Results****\n",
      "Accuracy: 94.7524%\n",
      "Weighted F1: 94.7407%\n",
      "Log Loss: 0.13269028631051438\n",
      "==============================\n",
      "⌚Process took: 0:05:37.710237\n"
     ]
    },
    {
     "name": "stderr",
     "output_type": "stream",
     "text": [
      "\n"
     ]
    },
    {
     "data": {
      "image/png": "[encoded data removed]",
      "text/plain": [
       "<Figure size 432x288 with 1 Axes>"
      ]
     },
     "metadata": {
      "needs_background": "light"
     },
     "output_type": "display_data"
    },
    {
     "data": {
      "image/png": "[encoded data removed]",
      "text/plain": [
       "<Figure size 432x288 with 1 Axes>"
      ]
     },
     "metadata": {
      "needs_background": "light"
     },
     "output_type": "display_data"
    },
    {
     "data": {
      "image/png": "[encoded data removed]",
      "text/plain": [
       "<Figure size 432x288 with 1 Axes>"
      ]
     },
     "metadata": {
      "needs_background": "light"
     },
     "output_type": "display_data"
    }
   ],
   "source": [
    "log_cols = [\"Classifier\", \"Accuracy\", \"Weighted F1\", \"Log Loss\"]\n",
    "log = pd.DataFrame(columns=log_cols)\n",
    "\n",
    "t1 = datetime.now()\n",
    "\n",
    "for clf in tqdm(classifiers):\n",
    "    clf.fit(X_train, y_train)\n",
    "    name = clf.__class__.__name__\n",
    "    print(\"=\"*30)\n",
    "    print(name)\n",
    "    print('****Results****')\n",
    "    train_predictions = clf.predict(X_val)\n",
    "    acc = accuracy_score(y_val, train_predictions)\n",
    "    print(\"Accuracy: {:.4%}\".format(acc))\n",
    "    train_predictions = clf.predict(X_val)\n",
    "    f1 = f1_score(y_val, train_predictions, average='weighted')\n",
    "    print(\"Weighted F1: {:.4%}\".format(f1))\n",
    "    train_predictions = clf.predict_proba(X_val)\n",
    "    ll = log_loss(y_val, train_predictions)\n",
    "    print(\"Log Loss: {}\".format(ll))\n",
    "    log_entry = pd.DataFrame([[name, acc*100, f1*100, ll]], columns=log_cols)\n",
    "    log = log.append(log_entry)\n",
    "    print(\"=\"*30)\n",
    "\n",
    "t2 = datetime.now() - t1\n",
    "print('⌚Process took:', t2)\n",
    "\n",
    "sns.barplot(x='Accuracy', y='Classifier', data=log)\n",
    "plt.xlabel('Accuracy %')\n",
    "plt.title('Accuracy')\n",
    "plt.show()\n",
    "sns.barplot(x='Weighted F1', y='Classifier', data=log)\n",
    "plt.xlabel('Weighted F1 Score %')\n",
    "plt.title('Weighted F1')\n",
    "plt.show()\n",
    "sns.barplot(x='Log Loss', y='Classifier', data=log)\n",
    "plt.xlabel('Log Loss')\n",
    "plt.title('Log Loss')\n",
    "plt.show()"
   ]
  },
  {
   "cell_type": "code",
   "execution_count": 7,
   "metadata": {},
   "outputs": [
    {
     "data": {
      "text/html": [
       "<div>\n",
       "<style scoped>\n",
       "    .dataframe tbody tr th:only-of-type {\n",
       "        vertical-align: middle;\n",
       "    }\n",
       "\n",
       "    .dataframe tbody tr th {\n",
       "        vertical-align: top;\n",
       "    }\n",
       "\n",
       "    .dataframe thead th {\n",
       "        text-align: right;\n",
       "    }\n",
       "</style>\n",
       "<table border=\"1\" class=\"dataframe\">\n",
       "  <thead>\n",
       "    <tr style=\"text-align: right;\">\n",
       "      <th></th>\n",
       "      <th>Classifier</th>\n",
       "      <th>Accuracy</th>\n",
       "      <th>Weighted F1</th>\n",
       "      <th>Log Loss</th>\n",
       "    </tr>\n",
       "  </thead>\n",
       "  <tbody>\n",
       "    <tr>\n",
       "      <th>0</th>\n",
       "      <td>KNeighborsClassifier</td>\n",
       "      <td>92.387288</td>\n",
       "      <td>92.379026</td>\n",
       "      <td>0.862445</td>\n",
       "    </tr>\n",
       "    <tr>\n",
       "      <th>0</th>\n",
       "      <td>SVC</td>\n",
       "      <td>92.313378</td>\n",
       "      <td>92.311638</td>\n",
       "      <td>0.175963</td>\n",
       "    </tr>\n",
       "    <tr>\n",
       "      <th>0</th>\n",
       "      <td>NuSVC</td>\n",
       "      <td>90.761271</td>\n",
       "      <td>90.748452</td>\n",
       "      <td>0.222877</td>\n",
       "    </tr>\n",
       "    <tr>\n",
       "      <th>0</th>\n",
       "      <td>DecisionTreeClassifier</td>\n",
       "      <td>92.239468</td>\n",
       "      <td>92.237250</td>\n",
       "      <td>2.680393</td>\n",
       "    </tr>\n",
       "    <tr>\n",
       "      <th>0</th>\n",
       "      <td>RandomForestClassifier</td>\n",
       "      <td>95.195861</td>\n",
       "      <td>95.196120</td>\n",
       "      <td>0.123299</td>\n",
       "    </tr>\n",
       "    <tr>\n",
       "      <th>0</th>\n",
       "      <td>AdaBoostClassifier</td>\n",
       "      <td>95.565410</td>\n",
       "      <td>95.564918</td>\n",
       "      <td>0.587412</td>\n",
       "    </tr>\n",
       "    <tr>\n",
       "      <th>0</th>\n",
       "      <td>GradientBoostingClassifier</td>\n",
       "      <td>96.008869</td>\n",
       "      <td>96.011474</td>\n",
       "      <td>0.089977</td>\n",
       "    </tr>\n",
       "    <tr>\n",
       "      <th>0</th>\n",
       "      <td>XGBClassifier</td>\n",
       "      <td>96.747967</td>\n",
       "      <td>96.748646</td>\n",
       "      <td>0.088716</td>\n",
       "    </tr>\n",
       "    <tr>\n",
       "      <th>0</th>\n",
       "      <td>GaussianNB</td>\n",
       "      <td>79.305248</td>\n",
       "      <td>79.327784</td>\n",
       "      <td>5.491235</td>\n",
       "    </tr>\n",
       "    <tr>\n",
       "      <th>0</th>\n",
       "      <td>LinearDiscriminantAnalysis</td>\n",
       "      <td>94.752402</td>\n",
       "      <td>94.740742</td>\n",
       "      <td>0.132690</td>\n",
       "    </tr>\n",
       "  </tbody>\n",
       "</table>\n",
       "</div>"
      ],
      "text/plain": [
       "                   Classifier   Accuracy  Weighted F1  Log Loss\n",
       "0        KNeighborsClassifier  92.387288    92.379026  0.862445\n",
       "0                         SVC  92.313378    92.311638  0.175963\n",
       "0                       NuSVC  90.761271    90.748452  0.222877\n",
       "0      DecisionTreeClassifier  92.239468    92.237250  2.680393\n",
       "0      RandomForestClassifier  95.195861    95.196120  0.123299\n",
       "0          AdaBoostClassifier  95.565410    95.564918  0.587412\n",
       "0  GradientBoostingClassifier  96.008869    96.011474  0.089977\n",
       "0               XGBClassifier  96.747967    96.748646  0.088716\n",
       "0                  GaussianNB  79.305248    79.327784  5.491235\n",
       "0  LinearDiscriminantAnalysis  94.752402    94.740742  0.132690"
      ]
     },
     "execution_count": 7,
     "metadata": {},
     "output_type": "execute_result"
    }
   ],
   "source": [
    "log"
   ]
  },
  {
   "cell_type": "code",
   "execution_count": null,
   "metadata": {},
   "outputs": [],
   "source": []
  }
 ],
 "metadata": {
  "interpreter": {
   "hash": "6a5a51028c04685c93ad26148e924b71e4c144ca2a31b596ca807913250ac5e1"
  },
  "kernelspec": {
   "display_name": "Python 3.9.7 64-bit ('venv': venv)",
   "language": "python",
   "name": "python3"
  },
  "language_info": {
   "codemirror_mode": {
    "name": "ipython",
    "version": 3
   },
   "file_extension": ".py",
   "mimetype": "text/x-python",
   "name": "python",
   "nbconvert_exporter": "python",
   "pygments_lexer": "ipython3",
   "version": "3.9.7"
  },
  "orig_nbformat": 4
 },
 "nbformat": 4,
 "nbformat_minor": 2
}
