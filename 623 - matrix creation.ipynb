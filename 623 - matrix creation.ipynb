{
 "cells": [
  {
   "cell_type": "code",
   "execution_count": 1,
   "metadata": {},
   "outputs": [],
   "source": [
    "import random\n",
    "from collections import Counter\n",
    "\n",
    "import pandas as pd\n",
    "import numpy as np\n",
    "import matplotlib.pyplot as plt\n",
    "import matplotlib.cm as cm\n",
    "from wordcloud import WordCloud\n",
    "\n",
    "import nltk\n",
    "from sklearn.feature_extraction.text import CountVectorizer"
   ]
  },
  {
   "cell_type": "code",
   "execution_count": 2,
   "metadata": {},
   "outputs": [],
   "source": [
    "df = pd.read_pickle('../data/cleaned_tweets.pkl')"
   ]
  },
  {
   "cell_type": "code",
   "execution_count": 3,
   "metadata": {},
   "outputs": [],
   "source": [
    "df = df[df['region'] == 'united states']"
   ]
  },
  {
   "cell_type": "code",
   "execution_count": 4,
   "metadata": {},
   "outputs": [
    {
     "data": {
      "text/plain": [
       "unreliable    278\n",
       "true          208\n",
       "Name: category, dtype: int64"
      ]
     },
     "execution_count": 4,
     "metadata": {},
     "output_type": "execute_result"
    }
   ],
   "source": [
    "# choosing a subset of tweets that have more/equal than 10 and less/equal than 20 words\n",
    "\n",
    "df = df[(df.num_words>=10) & (df.num_words<=20)]\n",
    "df.category.value_counts()"
   ]
  },
  {
   "cell_type": "code",
   "execution_count": 5,
   "metadata": {},
   "outputs": [],
   "source": [
    "# sub sample only n tweets from each category\n",
    "n = 200\n",
    "df = pd.concat([df[df.category == 'unreliable'].sample(n=n, random_state=42),\n",
    "                df[df.category == 'true'].sample(n=n, random_state=42)]).reset_index(drop=True)"
   ]
  },
  {
   "cell_type": "code",
   "execution_count": 6,
   "metadata": {},
   "outputs": [
    {
     "data": {
      "text/html": [
       "<div>\n",
       "<style scoped>\n",
       "    .dataframe tbody tr th:only-of-type {\n",
       "        vertical-align: middle;\n",
       "    }\n",
       "\n",
       "    .dataframe tbody tr th {\n",
       "        vertical-align: top;\n",
       "    }\n",
       "\n",
       "    .dataframe thead th {\n",
       "        text-align: right;\n",
       "    }\n",
       "</style>\n",
       "<table border=\"1\" class=\"dataframe\">\n",
       "  <thead>\n",
       "    <tr style=\"text-align: right;\">\n",
       "      <th></th>\n",
       "      <th>text</th>\n",
       "      <th>region</th>\n",
       "      <th>category</th>\n",
       "      <th>label</th>\n",
       "      <th>cleaned</th>\n",
       "      <th>num_words</th>\n",
       "    </tr>\n",
       "  </thead>\n",
       "  <tbody>\n",
       "    <tr>\n",
       "      <th>0</th>\n",
       "      <td>10,000 deaths in virus outbreak in michigan, w...</td>\n",
       "      <td>united states</td>\n",
       "      <td>unreliable</td>\n",
       "      <td>0</td>\n",
       "      <td>death virus outbreak michigan washington idaho...</td>\n",
       "      <td>10</td>\n",
       "    </tr>\n",
       "    <tr>\n",
       "      <th>1</th>\n",
       "      <td>says michigan covid-19 order bans gardening an...</td>\n",
       "      <td>united states</td>\n",
       "      <td>unreliable</td>\n",
       "      <td>0</td>\n",
       "      <td>say michigan covid order ban gardening sale ve...</td>\n",
       "      <td>10</td>\n",
       "    </tr>\n",
       "    <tr>\n",
       "      <th>2</th>\n",
       "      <td>harvard professor charles lieber was arrested ...</td>\n",
       "      <td>united states</td>\n",
       "      <td>unreliable</td>\n",
       "      <td>0</td>\n",
       "      <td>harvard professor charles lieber arrested manu...</td>\n",
       "      <td>10</td>\n",
       "    </tr>\n",
       "    <tr>\n",
       "      <th>3</th>\n",
       "      <td>valley county, montana, mandated pink arm band...</td>\n",
       "      <td>united states</td>\n",
       "      <td>unreliable</td>\n",
       "      <td>0</td>\n",
       "      <td>valley county montana mandated pink arm band r...</td>\n",
       "      <td>11</td>\n",
       "    </tr>\n",
       "    <tr>\n",
       "      <th>4</th>\n",
       "      <td>ohio gov. mike dewine released 4,300 prisoners...</td>\n",
       "      <td>united states</td>\n",
       "      <td>unreliable</td>\n",
       "      <td>0</td>\n",
       "      <td>ohio gov mike dewine released prisoner warning...</td>\n",
       "      <td>11</td>\n",
       "    </tr>\n",
       "  </tbody>\n",
       "</table>\n",
       "</div>"
      ],
      "text/plain": [
       "                                                text         region  \\\n",
       "0  10,000 deaths in virus outbreak in michigan, w...  united states   \n",
       "1  says michigan covid-19 order bans gardening an...  united states   \n",
       "2  harvard professor charles lieber was arrested ...  united states   \n",
       "3  valley county, montana, mandated pink arm band...  united states   \n",
       "4  ohio gov. mike dewine released 4,300 prisoners...  united states   \n",
       "\n",
       "     category  label                                            cleaned  \\\n",
       "0  unreliable      0  death virus outbreak michigan washington idaho...   \n",
       "1  unreliable      0  say michigan covid order ban gardening sale ve...   \n",
       "2  unreliable      0  harvard professor charles lieber arrested manu...   \n",
       "3  unreliable      0  valley county montana mandated pink arm band r...   \n",
       "4  unreliable      0  ohio gov mike dewine released prisoner warning...   \n",
       "\n",
       "   num_words  \n",
       "0         10  \n",
       "1         10  \n",
       "2         10  \n",
       "3         11  \n",
       "4         11  "
      ]
     },
     "execution_count": 6,
     "metadata": {},
     "output_type": "execute_result"
    }
   ],
   "source": [
    "df.head()"
   ]
  },
  {
   "cell_type": "code",
   "execution_count": 7,
   "metadata": {},
   "outputs": [],
   "source": [
    "bow = []\n",
    "for word in df.cleaned.str.split().to_list():\n",
    "    bow += word"
   ]
  },
  {
   "cell_type": "code",
   "execution_count": 8,
   "metadata": {},
   "outputs": [
    {
     "data": {
      "text/plain": [
       "5388"
      ]
     },
     "execution_count": 8,
     "metadata": {},
     "output_type": "execute_result"
    }
   ],
   "source": [
    "len(bow)"
   ]
  },
  {
   "cell_type": "code",
   "execution_count": 9,
   "metadata": {},
   "outputs": [],
   "source": [
    "bow_true = []\n",
    "for word in df[df.category == 'true'].cleaned.str.split().to_list():\n",
    "    bow_true += word\n"
   ]
  },
  {
   "cell_type": "code",
   "execution_count": 10,
   "metadata": {},
   "outputs": [],
   "source": [
    "bow_unreliable = []\n",
    "for word in df[df.category == 'unreliable'].cleaned.str.split().to_list():\n",
    "    bow_unreliable += word"
   ]
  },
  {
   "cell_type": "code",
   "execution_count": 11,
   "metadata": {},
   "outputs": [
    {
     "data": {
      "text/plain": [
       "2811"
      ]
     },
     "execution_count": 11,
     "metadata": {},
     "output_type": "execute_result"
    }
   ],
   "source": [
    "len(bow_true)"
   ]
  },
  {
   "cell_type": "code",
   "execution_count": 12,
   "metadata": {},
   "outputs": [
    {
     "data": {
      "text/plain": [
       "2577"
      ]
     },
     "execution_count": 12,
     "metadata": {},
     "output_type": "execute_result"
    }
   ],
   "source": [
    "len(bow_unreliable)"
   ]
  },
  {
   "cell_type": "markdown",
   "metadata": {},
   "source": [
    "#### most common words in each category"
   ]
  },
  {
   "cell_type": "code",
   "execution_count": 13,
   "metadata": {},
   "outputs": [
    {
     "data": {
      "image/png": "[encoded data removed]",
      "text/plain": [
       "<Figure size 1008x432 with 1 Axes>"
      ]
     },
     "metadata": {
      "needs_background": "light"
     },
     "output_type": "display_data"
    }
   ],
   "source": [
    "plt.figure(figsize=(14,6))\n",
    "nltk.FreqDist(bow_true).plot(30,\n",
    "                             title='Most common words in true category')\n",
    "plt.show()"
   ]
  },
  {
   "cell_type": "code",
   "execution_count": 14,
   "metadata": {},
   "outputs": [
    {
     "data": {
      "image/png": "[encoded data removed]",
      "text/plain": [
       "<Figure size 1008x432 with 1 Axes>"
      ]
     },
     "metadata": {
      "needs_background": "light"
     },
     "output_type": "display_data"
    }
   ],
   "source": [
    "plt.figure(figsize=(14,6))\n",
    "nltk.FreqDist(bow_unreliable).plot(30,\n",
    "                             title='Most common words in unreliable category')\n",
    "plt.show()"
   ]
  },
  {
   "cell_type": "code",
   "execution_count": 15,
   "metadata": {},
   "outputs": [
    {
     "data": {
      "image/png": "[encoded data removed]",
      "text/plain": [
       "<Figure size 1008x432 with 1 Axes>"
      ]
     },
     "metadata": {
      "needs_background": "light"
     },
     "output_type": "display_data"
    }
   ],
   "source": [
    "plt.figure(figsize=(14,6))\n",
    "nltk.FreqDist(bow).plot(30,\n",
    "                             title='Most common words in both category')\n",
    "plt.show()"
   ]
  },
  {
   "cell_type": "markdown",
   "metadata": {},
   "source": [
    "#### size of vocabulary (distinct words)"
   ]
  },
  {
   "cell_type": "code",
   "execution_count": 16,
   "metadata": {},
   "outputs": [
    {
     "data": {
      "text/plain": [
       "1397"
      ]
     },
     "execution_count": 16,
     "metadata": {},
     "output_type": "execute_result"
    }
   ],
   "source": [
    "len(set(bow_true))"
   ]
  },
  {
   "cell_type": "code",
   "execution_count": 17,
   "metadata": {},
   "outputs": [
    {
     "data": {
      "text/plain": [
       "1184"
      ]
     },
     "execution_count": 17,
     "metadata": {},
     "output_type": "execute_result"
    }
   ],
   "source": [
    "len(set(bow_unreliable))"
   ]
  },
  {
   "cell_type": "code",
   "execution_count": 18,
   "metadata": {},
   "outputs": [
    {
     "data": {
      "text/plain": [
       "437"
      ]
     },
     "execution_count": 18,
     "metadata": {},
     "output_type": "execute_result"
    }
   ],
   "source": [
    "len(set(bow_true) & set(bow_unreliable))"
   ]
  },
  {
   "cell_type": "code",
   "execution_count": 19,
   "metadata": {},
   "outputs": [],
   "source": [
    "common_n_words = [i[0] for i in nltk.FreqDist(bow).most_common(n)]"
   ]
  },
  {
   "cell_type": "code",
   "execution_count": 20,
   "metadata": {},
   "outputs": [
    {
     "data": {
      "text/plain": [
       "['covid',\n",
       " 'coronavirus',\n",
       " 'people',\n",
       " 'new',\n",
       " 'death',\n",
       " 'trump',\n",
       " 'pandemic',\n",
       " 'say',\n",
       " 'president',\n",
       " 'us']"
      ]
     },
     "execution_count": 20,
     "metadata": {},
     "output_type": "execute_result"
    }
   ],
   "source": [
    "common_n_words[:10]"
   ]
  },
  {
   "cell_type": "code",
   "execution_count": 21,
   "metadata": {},
   "outputs": [],
   "source": [
    "common_true_words = [i[0] for i in nltk.FreqDist(bow_true).most_common(n+2)]\n",
    "common_unreliable_words = [i[0] for i in nltk.FreqDist(bow_unreliable).most_common(n+2)]"
   ]
  },
  {
   "cell_type": "code",
   "execution_count": 22,
   "metadata": {},
   "outputs": [],
   "source": [
    "true_tweets = [tweet for tweet in df[df.category == 'true'].cleaned.str.split().to_list()]\n",
    "unreliable_tweets = [tweet for tweet in df[df.category == 'unreliable'].cleaned.str.split().to_list()]"
   ]
  },
  {
   "cell_type": "code",
   "execution_count": 23,
   "metadata": {},
   "outputs": [],
   "source": [
    "def matrix_creator(tweets, words):\n",
    "    word_tweet = {word:np.zeros(len(tweets)) for word in words}\n",
    "    for word in words:\n",
    "        for i, tweet in enumerate(tweets):\n",
    "            if word in tweet:\n",
    "                word_tweet[word][i] += 1\n",
    "    df = pd.DataFrame(word_tweet).T\n",
    "    df.columns = ['t'+str(col) for col in df.columns.to_list()]\n",
    "    df = df.reset_index().rename(columns={'index':'word'})\n",
    "    return df\n",
    "        "
   ]
  },
  {
   "cell_type": "code",
   "execution_count": 24,
   "metadata": {},
   "outputs": [],
   "source": [
    "word_tweet_true_df = matrix_creator(true_tweets, common_true_words)\n",
    "word_tweet_unreliable_df = matrix_creator(unreliable_tweets, common_unreliable_words)"
   ]
  },
  {
   "cell_type": "code",
   "execution_count": 25,
   "metadata": {},
   "outputs": [],
   "source": [
    "word_tweet_true_df = word_tweet_true_df[(word_tweet_true_df.word != 'covid') & (word_tweet_true_df.word != 'coronavirus')].reset_index(drop=True)\n",
    "word_tweet_unreliable_df = word_tweet_unreliable_df[(word_tweet_unreliable_df.word != 'covid') & (word_tweet_unreliable_df.word != 'coronavirus')].reset_index(drop=True)"
   ]
  },
  {
   "cell_type": "code",
   "execution_count": 26,
   "metadata": {},
   "outputs": [],
   "source": [
    "word_tweet_true_df.iloc[:,1:] = word_tweet_true_df.select_dtypes('float64').astype('int8')\n",
    "word_tweet_unreliable_df.iloc[:,1:] = word_tweet_unreliable_df.select_dtypes('float64').astype('int8')"
   ]
  },
  {
   "cell_type": "code",
   "execution_count": 27,
   "metadata": {},
   "outputs": [],
   "source": [
    "word_tweet_true_df.to_csv('../../ITEC-623/R/ITEC-623/final_project/data/true_word_tweet_matrix.csv', index=False)\n",
    "word_tweet_unreliable_df.to_csv('../../ITEC-623/R/ITEC-623/final_project/data/false_word_tweet_matrix.csv', index=False)"
   ]
  },
  {
   "cell_type": "code",
   "execution_count": null,
   "metadata": {},
   "outputs": [],
   "source": []
  },
  {
   "cell_type": "code",
   "execution_count": 65,
   "metadata": {},
   "outputs": [],
   "source": [
    "from nltk.stem import WordNetLemmatizer\n",
    "\n",
    "# lemmatization only\n",
    "lemmatizer = WordNetLemmatizer()\n"
   ]
  },
  {
   "cell_type": "code",
   "execution_count": 85,
   "metadata": {},
   "outputs": [
    {
     "data": {
      "text/plain": [
       "'dy'"
      ]
     },
     "execution_count": 85,
     "metadata": {},
     "output_type": "execute_result"
    }
   ],
   "source": [
    "\n",
    "# preview\n",
    "lemmatizer.lemmatize('dies')"
   ]
  },
  {
   "cell_type": "code",
   "execution_count": null,
   "metadata": {},
   "outputs": [],
   "source": []
  }
 ],
 "metadata": {
  "interpreter": {
   "hash": "033bd3c1329338defdc4c98345d63580936211b5a58345c09a4ef95f2034f40b"
  },
  "kernelspec": {
   "display_name": "Python 3.9.7 64-bit ('venv': venv)",
   "name": "python3"
  },
  "language_info": {
   "codemirror_mode": {
    "name": "ipython",
    "version": 3
   },
   "file_extension": ".py",
   "mimetype": "text/x-python",
   "name": "python",
   "nbconvert_exporter": "python",
   "pygments_lexer": "ipython3",
   "version": "3.9.7"
  },
  "orig_nbformat": 4
 },
 "nbformat": 4,
 "nbformat_minor": 2
}
